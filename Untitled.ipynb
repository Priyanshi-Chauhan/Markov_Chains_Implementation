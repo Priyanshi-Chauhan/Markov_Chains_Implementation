{
 "cells": [
  {
   "cell_type": "markdown",
   "metadata": {},
   "source": [
    "# Markov chains- Probabilistic Model for text/Natural language generation "
   ]
  },
  {
   "cell_type": "markdown",
   "metadata": {},
   "source": [
    "### It is a state process\n",
    "### Transition table is made \n",
    "### Help us with list of possibilities and each possibility has some probability"
   ]
  },
  {
   "cell_type": "markdown",
   "metadata": {},
   "source": [
    "# Setting up supervised learning problem\n",
    "\n",
    "### going to build transition table which maps the frequencies from the n-grams to the next character"
   ]
  },
  {
   "cell_type": "code",
   "execution_count": 16,
   "metadata": {},
   "outputs": [],
   "source": [
    "# defining a table which will generate a table\n",
    "def generateTable(data,k=4):\n",
    "    t={}\n",
    "    for i in range(len(data)-k):        # we are not going to iterate over the last k characters\n",
    "        x=data[i:i+k]\n",
    "        y=data[i+k]\n",
    "        print(\"x %s and y %s\" %(x,y))\n",
    "        if(t.get(x) is None):\n",
    "            t[x]={}\n",
    "            t[x][y]=1\n",
    "        else :\n",
    "            if(t[x].get(y) is None):\n",
    "                t[x][y]=1;\n",
    "            else:\n",
    "                t[x][y] += 1\n",
    "    return t          \n",
    "      "
   ]
  },
  {
   "cell_type": "code",
   "execution_count": 17,
   "metadata": {},
   "outputs": [
    {
     "name": "stdout",
     "output_type": "stream",
     "text": [
      "x the  and y m\n",
      "x he m and y a\n",
      "x e ma and y n\n"
     ]
    },
    {
     "data": {
      "text/plain": [
       "{'the ': {'m': 1}, 'he m': {'a': 1}, 'e ma': {'n': 1}}"
      ]
     },
     "execution_count": 17,
     "metadata": {},
     "output_type": "execute_result"
    }
   ],
   "source": [
    "generateTable(\"the man\")"
   ]
  },
  {
   "cell_type": "code",
   "execution_count": 20,
   "metadata": {},
   "outputs": [
    {
     "name": "stdout",
     "output_type": "stream",
     "text": [
      "x hell and y o\n",
      "x ello and y  \n",
      "x llo  and y h\n",
      "x lo h and y e\n",
      "x o he and y l\n",
      "x  hel and y l\n",
      "x hell and y  \n",
      "x ell  and y h\n",
      "x ll h and y e\n",
      "x l he and y l\n",
      "x  hel and y l\n",
      "x hell and y i\n"
     ]
    }
   ],
   "source": [
    "s=generateTable(\"hello hell helli\")"
   ]
  },
  {
   "cell_type": "code",
   "execution_count": null,
   "metadata": {},
   "outputs": [],
   "source": []
  },
  {
   "cell_type": "markdown",
   "metadata": {},
   "source": [
    "# Now we will reduce these frequencies into probabilites"
   ]
  },
  {
   "cell_type": "code",
   "execution_count": null,
   "metadata": {},
   "outputs": [],
   "source": [
    " def convfreqintoprob(t):\n",
    "        for kx in t.keys():\n",
    "            s=float(sum(t[kx].values()))\n",
    "            for k in t[kx].keys():\n",
    "                t[kx][k]=t[kx][k]/s\n",
    "    return t"
   ]
  },
  {
   "cell_type": "code",
   "execution_count": 21,
   "metadata": {},
   "outputs": [],
   "source": [
    "T=convfreqintoprob(s)"
   ]
  },
  {
   "cell_type": "code",
   "execution_count": 22,
   "metadata": {},
   "outputs": [
    {
     "data": {
      "text/plain": [
       "{'hell': {'o': 0.3333333333333333,\n",
       "  ' ': 0.3333333333333333,\n",
       "  'i': 0.3333333333333333},\n",
       " 'ello': {' ': 1.0},\n",
       " 'llo ': {'h': 1.0},\n",
       " 'lo h': {'e': 1.0},\n",
       " 'o he': {'l': 1.0},\n",
       " ' hel': {'l': 1.0},\n",
       " 'ell ': {'h': 1.0},\n",
       " 'll h': {'e': 1.0},\n",
       " 'l he': {'l': 1.0}}"
      ]
     },
     "execution_count": 22,
     "metadata": {},
     "output_type": "execute_result"
    }
   ],
   "source": [
    "T"
   ]
  },
  {
   "cell_type": "code",
   "execution_count": null,
   "metadata": {},
   "outputs": [],
   "source": [
    "# Training a speech generator\n",
    "text_path=\"english_speech_\""
   ]
  }
 ],
 "metadata": {
  "kernelspec": {
   "display_name": "Python 3",
   "language": "python",
   "name": "python3"
  },
  "language_info": {
   "codemirror_mode": {
    "name": "ipython",
    "version": 3
   },
   "file_extension": ".py",
   "mimetype": "text/x-python",
   "name": "python",
   "nbconvert_exporter": "python",
   "pygments_lexer": "ipython3",
   "version": "3.7.7"
  }
 },
 "nbformat": 4,
 "nbformat_minor": 4
}
